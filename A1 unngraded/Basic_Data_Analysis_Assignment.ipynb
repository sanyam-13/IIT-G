{
 "cells": [
  {
   "cell_type": "markdown",
   "metadata": {
    "colab_type": "text",
    "id": "CxXzaNoXfwUJ"
   },
   "source": [
    "# Summer Analytics 2020 - Basic Data Analysis"
   ]
  },
  {
   "cell_type": "markdown",
   "metadata": {
    "colab_type": "text",
    "id": "nxWE-b8zfwUK"
   },
   "source": [
    "- ####  Welcome to your first assignment, on basic data analysis!\n",
    "- #### This Assignment is ungraded"
   ]
  },
  {
   "cell_type": "markdown",
   "metadata": {
    "colab_type": "text",
    "id": "yWGAv8OCfwUL"
   },
   "source": [
    "\n",
    "\n",
    "### 1) Import Pandas\n"
   ]
  },
  {
   "cell_type": "code",
   "execution_count": 1,
   "metadata": {
    "colab": {},
    "colab_type": "code",
    "id": "r_V1kJdBfwUM"
   },
   "outputs": [],
   "source": [
    "import pandas as pd\n",
    "import numpy as np\n"
   ]
  },
  {
   "cell_type": "markdown",
   "metadata": {
    "colab_type": "text",
    "id": "gu0-Jo1MfwUP"
   },
   "source": [
    "### 2) Import the dataset and  Assign it to a variable called users and use the 'user_id' as index\n",
    "\n",
    "#### Import the dataset from this url (https://raw.githubusercontent.com/justmarkham/DAT8/master/data/u.user). "
   ]
  },
  {
   "cell_type": "code",
   "execution_count": 5,
   "metadata": {
    "colab": {},
    "colab_type": "code",
    "id": "6nMOuv9sfwUQ"
   },
   "outputs": [
    {
     "name": "stdout",
     "output_type": "stream",
     "text": [
      "     user_id  age gender     occupation zip_code\n",
      "0          1   24      M     technician    85711\n",
      "1          2   53      F          other    94043\n",
      "2          3   23      M         writer    32067\n",
      "3          4   24      M     technician    43537\n",
      "4          5   33      F          other    15213\n",
      "..       ...  ...    ...            ...      ...\n",
      "938      939   26      F        student    33319\n",
      "939      940   32      M  administrator    02215\n",
      "940      941   20      M        student    97229\n",
      "941      942   48      F      librarian    78209\n",
      "942      943   22      M        student    77841\n",
      "\n",
      "[943 rows x 5 columns]\n"
     ]
    }
   ],
   "source": [
    "df=pd.read_csv('https://raw.githubusercontent.com/justmarkham/DAT8/master/data/u.user',sep='|')\n",
    "print(df)"
   ]
  },
  {
   "cell_type": "markdown",
   "metadata": {
    "colab_type": "text",
    "id": "bn5j2_SyfwUT"
   },
   "source": [
    "### 3) Display the first 25 entries "
   ]
  },
  {
   "cell_type": "code",
   "execution_count": 6,
   "metadata": {
    "colab": {},
    "colab_type": "code",
    "id": "y_cwbh67fwUT",
    "scrolled": true
   },
   "outputs": [
    {
     "name": "stdout",
     "output_type": "stream",
     "text": [
      "    user_id  age gender     occupation zip_code\n",
      "0         1   24      M     technician    85711\n",
      "1         2   53      F          other    94043\n",
      "2         3   23      M         writer    32067\n",
      "3         4   24      M     technician    43537\n",
      "4         5   33      F          other    15213\n",
      "5         6   42      M      executive    98101\n",
      "6         7   57      M  administrator    91344\n",
      "7         8   36      M  administrator    05201\n",
      "8         9   29      M        student    01002\n",
      "9        10   53      M         lawyer    90703\n",
      "10       11   39      F          other    30329\n",
      "11       12   28      F          other    06405\n",
      "12       13   47      M       educator    29206\n",
      "13       14   45      M      scientist    55106\n",
      "14       15   49      F       educator    97301\n",
      "15       16   21      M  entertainment    10309\n",
      "16       17   30      M     programmer    06355\n",
      "17       18   35      F          other    37212\n",
      "18       19   40      M      librarian    02138\n",
      "19       20   42      F      homemaker    95660\n",
      "20       21   26      M         writer    30068\n",
      "21       22   25      M         writer    40206\n",
      "22       23   30      F         artist    48197\n",
      "23       24   21      F         artist    94533\n",
      "24       25   39      M       engineer    55107\n"
     ]
    }
   ],
   "source": [
    "print(df.head(25))"
   ]
  },
  {
   "cell_type": "markdown",
   "metadata": {
    "colab_type": "text",
    "id": "2y6oxoOBfwUW"
   },
   "source": [
    "### 4) Display the last 10 entries"
   ]
  },
  {
   "cell_type": "code",
   "execution_count": 7,
   "metadata": {
    "colab": {},
    "colab_type": "code",
    "id": "84_xuhDTfwUW",
    "scrolled": true
   },
   "outputs": [
    {
     "name": "stdout",
     "output_type": "stream",
     "text": [
      "     user_id  age gender     occupation zip_code\n",
      "933      934   61      M       engineer    22902\n",
      "934      935   42      M         doctor    66221\n",
      "935      936   24      M          other    32789\n",
      "936      937   48      M       educator    98072\n",
      "937      938   38      F     technician    55038\n",
      "938      939   26      F        student    33319\n",
      "939      940   32      M  administrator    02215\n",
      "940      941   20      M        student    97229\n",
      "941      942   48      F      librarian    78209\n",
      "942      943   22      M        student    77841\n"
     ]
    }
   ],
   "source": [
    "print(df.tail(10))"
   ]
  },
  {
   "cell_type": "markdown",
   "metadata": {
    "colab_type": "text",
    "id": "Wx7r17UDfwUY"
   },
   "source": [
    "### 5) What is the number of observations in the dataset?"
   ]
  },
  {
   "cell_type": "code",
   "execution_count": 8,
   "metadata": {
    "colab": {},
    "colab_type": "code",
    "id": "d6OITIKHfwUZ"
   },
   "outputs": [
    {
     "data": {
      "text/plain": [
       "943"
      ]
     },
     "execution_count": 8,
     "metadata": {},
     "output_type": "execute_result"
    }
   ],
   "source": [
    "len(df.index)"
   ]
  },
  {
   "cell_type": "markdown",
   "metadata": {
    "colab_type": "text",
    "id": "hNq4eoivfwUb"
   },
   "source": [
    "### 6) What is the number of columns in the dataset, also print the name of all the columns?"
   ]
  },
  {
   "cell_type": "code",
   "execution_count": 12,
   "metadata": {
    "colab": {},
    "colab_type": "code",
    "id": "g5_iU0H9fwUc"
   },
   "outputs": [
    {
     "name": "stdout",
     "output_type": "stream",
     "text": [
      "5\n",
      "Index(['user_id', 'age', 'gender', 'occupation', 'zip_code'], dtype='object')\n"
     ]
    }
   ],
   "source": [
    "print(len(df.columns))\n",
    "print(df.columns)"
   ]
  },
  {
   "cell_type": "markdown",
   "metadata": {
    "colab_type": "text",
    "id": "bP3u6VGcfwUf"
   },
   "source": [
    "### 7) What is the data type of each column?"
   ]
  },
  {
   "cell_type": "code",
   "execution_count": 13,
   "metadata": {
    "colab": {},
    "colab_type": "code",
    "id": "japfxWKbfwUf"
   },
   "outputs": [
    {
     "data": {
      "text/plain": [
       "user_id        int64\n",
       "age            int64\n",
       "gender        object\n",
       "occupation    object\n",
       "zip_code      object\n",
       "dtype: object"
      ]
     },
     "execution_count": 13,
     "metadata": {},
     "output_type": "execute_result"
    }
   ],
   "source": [
    "df.dtypes"
   ]
  },
  {
   "cell_type": "markdown",
   "metadata": {
    "colab_type": "text",
    "id": "LIsXSDs-fwUh"
   },
   "source": [
    "### 8) Print only the occupation column "
   ]
  },
  {
   "cell_type": "code",
   "execution_count": 14,
   "metadata": {
    "colab": {},
    "colab_type": "code",
    "id": "Ulku9hfzfwUi"
   },
   "outputs": [
    {
     "name": "stdout",
     "output_type": "stream",
     "text": [
      "0         technician\n",
      "1              other\n",
      "2             writer\n",
      "3         technician\n",
      "4              other\n",
      "           ...      \n",
      "938          student\n",
      "939    administrator\n",
      "940          student\n",
      "941        librarian\n",
      "942          student\n",
      "Name: occupation, Length: 943, dtype: object\n"
     ]
    }
   ],
   "source": [
    "print(df.occupation)"
   ]
  },
  {
   "cell_type": "markdown",
   "metadata": {
    "colab_type": "text",
    "id": "1ojuqydxfwUk"
   },
   "source": [
    "### 9) How many different occupations are in this dataset?\n"
   ]
  },
  {
   "cell_type": "code",
   "execution_count": 15,
   "metadata": {
    "colab": {},
    "colab_type": "code",
    "id": "D65-WzYqfwUk"
   },
   "outputs": [
    {
     "data": {
      "text/plain": [
       "21"
      ]
     },
     "execution_count": 15,
     "metadata": {},
     "output_type": "execute_result"
    }
   ],
   "source": [
    "len(df.groupby('occupation'))"
   ]
  },
  {
   "cell_type": "markdown",
   "metadata": {
    "colab_type": "text",
    "id": "ZP567e47fwUo"
   },
   "source": [
    "### 10) What is the most frequent occupation?"
   ]
  },
  {
   "cell_type": "code",
   "execution_count": 36,
   "metadata": {
    "colab": {},
    "colab_type": "code",
    "id": "lugu7KprfwUp"
   },
   "outputs": [
    {
     "data": {
      "text/plain": [
       "'student'"
      ]
     },
     "execution_count": 36,
     "metadata": {},
     "output_type": "execute_result"
    }
   ],
   "source": [
    "df.occupation.value_counts().head(1).index[0]"
   ]
  },
  {
   "cell_type": "markdown",
   "metadata": {
    "colab_type": "text",
    "id": "FaqznF2AfwUr"
   },
   "source": [
    "### 11) Summarize the DataFrame."
   ]
  },
  {
   "cell_type": "code",
   "execution_count": 55,
   "metadata": {
    "colab": {},
    "colab_type": "code",
    "id": "jH3rLBmafwUr"
   },
   "outputs": [
    {
     "data": {
      "text/html": [
       "<div>\n",
       "<style scoped>\n",
       "    .dataframe tbody tr th:only-of-type {\n",
       "        vertical-align: middle;\n",
       "    }\n",
       "\n",
       "    .dataframe tbody tr th {\n",
       "        vertical-align: top;\n",
       "    }\n",
       "\n",
       "    .dataframe thead th {\n",
       "        text-align: right;\n",
       "    }\n",
       "</style>\n",
       "<table border=\"1\" class=\"dataframe\">\n",
       "  <thead>\n",
       "    <tr style=\"text-align: right;\">\n",
       "      <th></th>\n",
       "      <th>user_id</th>\n",
       "      <th>age</th>\n",
       "    </tr>\n",
       "  </thead>\n",
       "  <tbody>\n",
       "    <tr>\n",
       "      <th>count</th>\n",
       "      <td>943.000000</td>\n",
       "      <td>943.000000</td>\n",
       "    </tr>\n",
       "    <tr>\n",
       "      <th>mean</th>\n",
       "      <td>472.000000</td>\n",
       "      <td>34.051962</td>\n",
       "    </tr>\n",
       "    <tr>\n",
       "      <th>std</th>\n",
       "      <td>272.364951</td>\n",
       "      <td>12.192740</td>\n",
       "    </tr>\n",
       "    <tr>\n",
       "      <th>min</th>\n",
       "      <td>1.000000</td>\n",
       "      <td>7.000000</td>\n",
       "    </tr>\n",
       "    <tr>\n",
       "      <th>25%</th>\n",
       "      <td>236.500000</td>\n",
       "      <td>25.000000</td>\n",
       "    </tr>\n",
       "    <tr>\n",
       "      <th>50%</th>\n",
       "      <td>472.000000</td>\n",
       "      <td>31.000000</td>\n",
       "    </tr>\n",
       "    <tr>\n",
       "      <th>75%</th>\n",
       "      <td>707.500000</td>\n",
       "      <td>43.000000</td>\n",
       "    </tr>\n",
       "    <tr>\n",
       "      <th>max</th>\n",
       "      <td>943.000000</td>\n",
       "      <td>73.000000</td>\n",
       "    </tr>\n",
       "  </tbody>\n",
       "</table>\n",
       "</div>"
      ],
      "text/plain": [
       "          user_id         age\n",
       "count  943.000000  943.000000\n",
       "mean   472.000000   34.051962\n",
       "std    272.364951   12.192740\n",
       "min      1.000000    7.000000\n",
       "25%    236.500000   25.000000\n",
       "50%    472.000000   31.000000\n",
       "75%    707.500000   43.000000\n",
       "max    943.000000   73.000000"
      ]
     },
     "execution_count": 55,
     "metadata": {},
     "output_type": "execute_result"
    }
   ],
   "source": [
    "df.describe()"
   ]
  },
  {
   "cell_type": "markdown",
   "metadata": {
    "colab_type": "text",
    "id": "niaRW1iyfwUu"
   },
   "source": [
    "### 12) Summarize only the occupation column"
   ]
  },
  {
   "cell_type": "code",
   "execution_count": 27,
   "metadata": {
    "colab": {},
    "colab_type": "code",
    "id": "mkY5TxdRfwUu"
   },
   "outputs": [
    {
     "data": {
      "text/plain": [
       "'student'"
      ]
     },
     "execution_count": 27,
     "metadata": {},
     "output_type": "execute_result"
    }
   ],
   "source": [
    "df['occupation'].describe().top"
   ]
  },
  {
   "cell_type": "markdown",
   "metadata": {
    "colab_type": "text",
    "id": "HsTTIOSLfwUw"
   },
   "source": [
    "### 13) What is the mean age of users?"
   ]
  },
  {
   "cell_type": "code",
   "execution_count": 16,
   "metadata": {
    "colab": {},
    "colab_type": "code",
    "id": "o4T-vE3mfwUx"
   },
   "outputs": [
    {
     "data": {
      "text/plain": [
       "34.05196182396607"
      ]
     },
     "execution_count": 16,
     "metadata": {},
     "output_type": "execute_result"
    }
   ],
   "source": [
    "df['age'].mean()"
   ]
  },
  {
   "cell_type": "markdown",
   "metadata": {
    "colab_type": "text",
    "id": "PVcsEzdFfwUz"
   },
   "source": [
    "### 14) What is the age with least occurrence?"
   ]
  },
  {
   "cell_type": "code",
   "execution_count": 33,
   "metadata": {
    "colab": {},
    "colab_type": "code",
    "id": "VX5lp_RyfwUz"
   },
   "outputs": [
    {
     "data": {
      "text/plain": [
       "7    1\n",
       "Name: age, dtype: int64"
      ]
     },
     "execution_count": 33,
     "metadata": {},
     "output_type": "execute_result"
    }
   ],
   "source": [
    "df.age.value_counts().tail(1)"
   ]
  },
  {
   "cell_type": "code",
   "execution_count": 28,
   "metadata": {},
   "outputs": [
    {
     "data": {
      "text/plain": [
       "<bound method IndexOpsMixin.value_counts of 0      24\n",
       "1      53\n",
       "2      23\n",
       "3      24\n",
       "4      33\n",
       "       ..\n",
       "938    26\n",
       "939    32\n",
       "940    20\n",
       "941    48\n",
       "942    22\n",
       "Name: age, Length: 943, dtype: int64>"
      ]
     },
     "execution_count": 28,
     "metadata": {},
     "output_type": "execute_result"
    }
   ],
   "source": [
    "df.age.value_counts"
   ]
  },
  {
   "cell_type": "code",
   "execution_count": null,
   "metadata": {},
   "outputs": [],
   "source": []
  }
 ],
 "metadata": {
  "anaconda-cloud": {},
  "colab": {
   "name": "Basic Data Analysis Assignment.ipynb",
   "provenance": []
  },
  "kernelspec": {
   "display_name": "Python 3",
   "language": "python",
   "name": "python3"
  },
  "language_info": {
   "codemirror_mode": {
    "name": "ipython",
    "version": 3
   },
   "file_extension": ".py",
   "mimetype": "text/x-python",
   "name": "python",
   "nbconvert_exporter": "python",
   "pygments_lexer": "ipython3",
   "version": "3.7.6"
  }
 },
 "nbformat": 4,
 "nbformat_minor": 1
}
